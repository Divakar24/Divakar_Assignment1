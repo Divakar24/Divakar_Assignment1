{
 "cells": [
  {
   "cell_type": "code",
   "execution_count": 7,
   "id": "2262afc9",
   "metadata": {
    "scrolled": true
   },
   "outputs": [
    {
     "name": "stdout",
     "output_type": "stream",
     "text": [
      "sorted list =  [19, 19, 20, 22, 24, 24, 24, 25, 25, 26]\n",
      "minimum age:19,maximum age:26\n",
      "new list: [19, 19, 20, 22, 24, 24, 24, 25, 25, 26, 19, 26]\n",
      "6\n",
      "The median of ages: 24.0\n",
      "average age is: 22.75\n",
      "Range of the ages: 7\n"
     ]
    }
   ],
   "source": [
    "#Question 1\n",
    "# The following is a list of 10 students ages:\n",
    "# ages = [19, 22, 19, 24, 20, 25, 26, 24, 25, 24]\n",
    "# Sort the list and find the min and max age\n",
    "# Add the min age and the max age again to the list\n",
    "# Find the median age (one middle item or two middle items divided by two)\n",
    "# Find the average age (sum of all items divided by their number)\n",
    "# Find the range of the ages (max minus min)\n",
    "\n",
    "ages =  [19, 22, 19, 24, 20, 25, 26, 24, 25, 24] ##creating a list\n",
    "ages.sort() #sorting\n",
    "print(\"sorted list = \", ages)\n",
    "print(f\"minimum age:{min(ages)},maximum age:{max(ages) }\") #min and max age\n",
    "ages.extend([min(ages),max(ages)]) #adding min and max ages\n",
    "print(f\"new list: {ages}\") # list after addition\n",
    "m = int(len(ages)/2) # middle index in the list\n",
    "print(m)\n",
    "if m % 2 == 0:   #find if its even or odd\n",
    " print(f\"The median of ages: {(ages[m-1]  + ages[m])/ 2}\") #median age of the ages in the list\n",
    "print(f\"average age is: {sum(ages)/len(ages)}\")      #average age in the given list\n",
    "print(f\"Range of the ages: {max(ages) - min(ages)}\") # range of ages in the List\n"
   ]
  },
  {
   "cell_type": "code",
   "execution_count": 17,
   "id": "d8722a99",
   "metadata": {},
   "outputs": [
    {
     "name": "stdout",
     "output_type": "stream",
     "text": [
      "length of student: 9\n",
      "<class 'list'>\n",
      "['Machine Learning', 'Python', 'SQL']\n",
      "keys of student dictionary:dict_keys(['first_name', 'last_name', 'gender', 'age', 'martial status', 'skills', 'country', 'city', 'address'])\n",
      "values of student dictionary: dict_values(['Divakar', 'Bethamcharla', 'male', '23', 'single', ['Machine Learning', 'Python', 'SQL'], 'India', 'Hyderabad', 'Kothagudem'])\n"
     ]
    }
   ],
   "source": [
    "#Question 2\n",
    "# Create an empty dictionary called dog\n",
    "# Add name, color, breed, legs, age to the dog dictionary\n",
    "# Create a student dictionary and add first_name, last_name, gender, age, marital status,skills, country, city and address as keys for the dictionary\n",
    "# Get the length of the student dictionary\n",
    "# Get the value of skills and check the data type, it should be a list\n",
    "# Modify the skills values by adding one or two skills\n",
    "# Get the dictionary keys as a list\n",
    "# Get the dictionary values as a list\n",
    "\n",
    "dog = {} #empty dictionary labled dog\n",
    "dog = {\"name\":\"jimmy\", \"color\":\"White\", \"bread\":\"pug\", \"legs\":\"4\", \"age\":\"2\"} #adding key and values\n",
    "\n",
    "#student dictionary\n",
    "student= {} \n",
    "student= {\"first_name\":\"Divakar\",\"last_name\":\"Bethamcharla\",\"gender\":\"male\",\"age\":\"23\",\"martial status\":\"single\",\n",
    "           \"skills\":['Machine Learning'],\"country\":\"India\",\"city\":\"Hyderabad\",\"address\":\"Kothagudem\"} #adding key and values\n",
    "\n",
    "print(f\"length of student: {len(student)}\") # returns the length of student dictionary\n",
    "\n",
    "print(type(student['skills']))         #prints the value of skills and type of data   \n",
    "\n",
    "student['skills'].extend(['Python', 'SQL']) #adding two new skills\n",
    "print(student['skills'])\n",
    "\n",
    "print(f\"keys of student dictionary:{student.keys()}\")   #prints the dictionary keys as list\n",
    "\n",
    "print(f\"values of student dictionary: {student.values()}\") #prints the dictionary values as list\n",
    "\n",
    "      "
   ]
  },
  {
   "cell_type": "code",
   "execution_count": 20,
   "id": "e206f392",
   "metadata": {},
   "outputs": [
    {
     "name": "stdout",
     "output_type": "stream",
     "text": [
      "no of siblings: 7\n",
      "('Prudhvi', 'Vasu', 'Revanth', 'Nandini', 'Bindhu', 'Varsha', 'Nidhi')\n",
      "type:  <class 'tuple'>\n",
      "My family members: ('Prudhvi', 'Vasu', 'Revanth', 'Nandini', 'Bindhu', 'Varsha', 'Nidhi', 'Srinivasa Rao', 'Sunitha')\n"
     ]
    }
   ],
   "source": [
    "#Question:3\n",
    "# Create a tuple containing names of your sisters and your brothers (imaginary siblings are fine)\n",
    "# Join brothers and sisters tuples and assign it to siblings\n",
    "# How many siblings do you have?\n",
    "\n",
    "brothers = (\"Prudhvi\", \"Vasu\", \"Revanth\")    #brothers tuple\n",
    "sisters = (\"Nandini\", \"Bindhu\", \"Varsha\", \"Nidhi\")  #sisters tuple\n",
    "siblings = brothers+sisters                           #siblings tuple by adding\n",
    "print(f\"no of siblings: {len(siblings)}\")             #number of siblings\n",
    "print(siblings)\n",
    "family_member = ()\n",
    "family_member += siblings + (\"Srinivasa Rao\", \"Sunitha\")  # adding the parents names\n",
    "print(\"type: \",type(family_member))\n",
    "print(f\"My family members: {family_member}\")"
   ]
  },
  {
   "cell_type": "code",
   "execution_count": 22,
   "id": "a39290f3",
   "metadata": {},
   "outputs": [
    {
     "name": "stdout",
     "output_type": "stream",
     "text": [
      "length of it companies:  7\n",
      "add new company:  {'Amazon', 'Microsoft', 'Apple', 'Oracle', 'IBM', 'Twitter', 'Google', 'Facebook'}\n",
      "new it companies list: {'infosys', 'cognizant', 'Amazon', 'Apple', 'Oracle', 'Twitter', 'Google', 'Facebook', 'accenture', 'Microsoft', 'IBM'}\n",
      "remove it companies: {'infosys', 'Amazon', 'Apple', 'Oracle', 'Twitter', 'Google', 'Facebook', 'accenture', 'Microsoft', 'IBM'}\n",
      "discard it companies: {'Amazon', 'Apple', 'Oracle', 'Twitter', 'Google', 'Facebook', 'accenture', 'Microsoft', 'IBM'}\n",
      "join A union B:{19, 20, 22, 24, 25, 26, 27, 28}\n",
      "join A intersection B:{19, 20, 22, 24, 25, 26}\n",
      "if A is subset of B:True\n",
      "if A is disjoint of B:False\n",
      "{19, 20, 22, 24, 25, 26, 27, 28}\n",
      "{19, 20, 22, 24, 25, 26, 27, 28}\n",
      "symmetric difference:set()\n",
      "deleting both A and B:  None None\n",
      "The length of the list age:8\n",
      "The length of the set age:8\n"
     ]
    }
   ],
   "source": [
    "#Question 4\n",
    "#it_companies = {'Facebook', 'Google', 'Microsoft', 'Apple', 'IBM', 'Oracle', 'Amazon'}\n",
    "#A = {19, 22, 24, 20, 25, 26}\n",
    "#B = {19, 22, 20, 25, 26, 24, 28, 27}\n",
    "#age = [22, 19, 24, 25, 26, 24, 25, 24]\n",
    "# Find the length of the set it_companies\n",
    "# Add 'Twitter' to it_companies\n",
    "# Insert multiple IT companies at once to the set it_companies\n",
    "# Remove one of the companies from the set it_companies\n",
    "# What is the difference between remove and discard\n",
    "# Join A and B\n",
    "# Find A intersection B\n",
    "# Is A subset of B\n",
    "# Are A and B disjoint sets\n",
    "# Join A with B and B with A\n",
    "# What is the symmetric difference between A and B\n",
    "# Delete the sets completely\n",
    "# Convert the ages to a set and compare the length of the list and the set\n",
    "\n",
    "it_companies = {'Facebook', 'Google', 'Microsoft', 'Apple', 'IBM', 'Oracle', 'Amazon'}\n",
    "A = {19, 22, 24, 20, 25, 26}\n",
    "B = {19, 22, 20, 25, 26, 24, 28, 27}\n",
    "age = [22, 19, 24, 25, 26, 24, 25, 24]\n",
    "count = len(it_companies)\n",
    "print(f\"length of it companies: \", count)                  #length of it_companies list\n",
    "\n",
    "it_companies.add(\"Twitter\")                                 #adding twitter\n",
    "\n",
    "print(f\"add new company: \", it_companies)\n",
    "it_companies.update(['infosys', 'accenture', 'cognizant'])  # adding multiple it companies\n",
    "print(f\"new it companies list:\", it_companies)   \n",
    "\n",
    "it_companies.remove('cognizant')                           #removing cognizant from the list\n",
    "print(f\"remove it companies:\", it_companies)\n",
    "\n",
    "it_companies.discard('infosys')                           #discarding infosys\n",
    "print(f\"discard it companies:\", it_companies)\n",
    "#Whenever we use remove method to remove the element which is not present it will show an error. But tht discard method\n",
    "#will not through any error eventhough any element was not found\n",
    "\n",
    "print(f\"join A union B:{A | B}\")                          # join A and B\n",
    "print(f\"join A intersection B:{A & B}\")                   # prints A intersection B\n",
    "print(f\"if A is subset of B:{A.issubset(B)}\")             #Bis subset of A if yes, it returns True\n",
    "print(f\"if A is disjoint of B:{A.isdisjoint(B)}\")\n",
    "\n",
    "A.update(B)                                               #joint A with B and B with A\n",
    "print(A) \n",
    "B.update(A)\n",
    "print(B)\n",
    "\n",
    "print(f\"symmetric difference:{A.symmetric_difference(B)}\") #symmetric difference between A and B\n",
    "A.clear()\n",
    "B.clear()\n",
    "print(f\"deleting both A and B: \", A.clear(), B.clear())    #delete set completely\n",
    "print(f\"The length of the list age:{len(age)}\")\n",
    "AgeSet=set(age)                                            #convert age to set and compare length of list and set\n",
    "print(f\"The length of the set age:{len(age)}\")\n"
   ]
  },
  {
   "cell_type": "code",
   "execution_count": 26,
   "id": "f8f85606",
   "metadata": {},
   "outputs": [
    {
     "name": "stdout",
     "output_type": "stream",
     "text": [
      "radius of the circle is:  30\n",
      "area of circle:  2826.0\n",
      "circumference of circle:  188.4\n",
      "enter radius : 10\n",
      "Area of the circle with the input radius:  314.0\n"
     ]
    }
   ],
   "source": [
    "#Question 5\n",
    "# The radius of a circle is 30 meters.\n",
    "# Calculate the area of a circle and assign the value to a variable name of _area_of_circle_\n",
    "# Calculate the circumference of a circle and assign the value to a variable name of _circum_of_circle_\n",
    "# Take radius as user input and calculate the area\n",
    "\n",
    "radius=30                                       #declaring variable radius with 30\n",
    "print(f\"radius of the circle is: \", radius)\n",
    "area_of_circle=3.14*(radius**2)                 #area of circle                    \n",
    "circum_of_circle=2*3.14*radius           #circumference of circle\n",
    "print(f\"area of circle: \", area_of_circle)\n",
    "print(f\"circumference of circle: \", circum_of_circle)\n",
    "radius_input = int(input(\"enter the radius : \"))\n",
    "new_area = 3.14*radius_input*radius_input\n",
    "print(f\"Area of the circle with the input radius: \", new_area)\n"
   ]
  },
  {
   "cell_type": "code",
   "execution_count": 29,
   "id": "b07202fe",
   "metadata": {},
   "outputs": [
    {
     "name": "stdout",
     "output_type": "stream",
     "text": [
      "['I', 'am', 'a', 'teacher', 'and', 'I', 'love', 'to', 'inspire', 'and', 'teach', 'people']\n",
      "number of unique words in the given string:  10\n"
     ]
    }
   ],
   "source": [
    "#Question 6\n",
    "#“I am a teacher and I love to inspire and teach people”\n",
    "# How many unique words have been used in the sentence? Use the split methods and set to get the unique words.\n",
    "\n",
    "sentence = \"I am a teacher and I love to inspire and teach people\"\n",
    "words =[]\n",
    "words=sentence.split(' ')          #Split function by default uses whiteSpaces as the separator in the string sentence\n",
    "print(words)\n",
    "unique_words=len(set(words))                #number of unique words in given string\n",
    "print(f\"number of unique words in the given string: \",unique_words )"
   ]
  },
  {
   "cell_type": "code",
   "execution_count": 37,
   "id": "e8227608",
   "metadata": {},
   "outputs": [
    {
     "name": "stdout",
     "output_type": "stream",
     "text": [
      "Name\t\tAge\tCountry\t\tCity\n",
      "Asabeneh\t250\tFinland\t\tHelsinki\n"
     ]
    }
   ],
   "source": [
    "# Question 7\n",
    "# Use a tab escape sequence to get the following lines.\n",
    "#Name Age Country City\n",
    "#Asabeneh 250 Finland Helsinki\n",
    "\n",
    "print(\"Name\\t\\tAge\\tCountry\\t\\tCity\\nAsabeneh\\t250\\tFinland\\t\\tHelsinki\")\n"
   ]
  },
  {
   "cell_type": "code",
   "execution_count": 68,
   "id": "3b4a4892",
   "metadata": {},
   "outputs": [
    {
     "name": "stdout",
     "output_type": "stream",
     "text": [
      "The area of a circle with radius 10 is 314 meters square.\n"
     ]
    }
   ],
   "source": [
    "#Question 8\n",
    "#Use the string formatting method to display the following:\n",
    "#radius = 10\n",
    "#area = 3.14 * radius ** 2\n",
    "#“The area of a circle with radius 10 is 314 meters square.”\n",
    "\n",
    "radius = 10 # assigning radius =10\n",
    "area = 3.14 * radius ** 2 # radius \n",
    "print(\"The area of a circle with radius %d is %.f meters square.\"%(radius,area))\n",
    "\n"
   ]
  },
  {
   "cell_type": "code",
   "execution_count": 79,
   "id": "6c7b8eb7",
   "metadata": {},
   "outputs": [
    {
     "name": "stdout",
     "output_type": "stream",
     "text": [
      "weight in kgs :  [68.04, 70.31, 65.77, 67.13]\n"
     ]
    }
   ],
   "source": [
    "#Question 9\n",
    "#Write a program, which reads weights (lbs.) of N students into a list and convert these weights to kilograms in a separate list using Loop. N: No of students (Read input from user)\n",
    "#Ex: L1: [150, 155, 145, 148]\n",
    "#Output: [68.03, 70.3, 65.77, 67.13]\n",
    "\n",
    "#list of students weights\n",
    "weight_lbs = [150, 155, 145, 148]\n",
    "weight_kgs = []\n",
    "\n",
    "#converting weight to kgs\n",
    "for x in weight_lbs:                       # for loop\n",
    "    weight_kgs.append(x*0.453592)            # appending the values\n",
    "weight_kgs=[round(x,2) for x in weight_kgs]\n",
    "print(\"weight in kgs : \",weight_kgs)\n",
    "\n"
   ]
  },
  {
   "cell_type": "code",
   "execution_count": null,
   "id": "7fb1d45f",
   "metadata": {},
   "outputs": [],
   "source": []
  },
  {
   "cell_type": "code",
   "execution_count": null,
   "id": "590aba90",
   "metadata": {},
   "outputs": [],
   "source": []
  },
  {
   "cell_type": "code",
   "execution_count": null,
   "id": "a9de8c46",
   "metadata": {},
   "outputs": [],
   "source": []
  },
  {
   "cell_type": "code",
   "execution_count": null,
   "id": "cd6d53a5",
   "metadata": {},
   "outputs": [],
   "source": []
  },
  {
   "cell_type": "code",
   "execution_count": null,
   "id": "8b981684",
   "metadata": {},
   "outputs": [],
   "source": []
  }
 ],
 "metadata": {
  "kernelspec": {
   "display_name": "Python 3 (ipykernel)",
   "language": "python",
   "name": "python3"
  },
  "language_info": {
   "codemirror_mode": {
    "name": "ipython",
    "version": 3
   },
   "file_extension": ".py",
   "mimetype": "text/x-python",
   "name": "python",
   "nbconvert_exporter": "python",
   "pygments_lexer": "ipython3",
   "version": "3.9.13"
  }
 },
 "nbformat": 4,
 "nbformat_minor": 5
}
